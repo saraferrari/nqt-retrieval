{
 "cells": [
  {
   "cell_type": "markdown",
   "metadata": {},
   "source": [
    "***Installo i componenti che mi servono dopo prendendo le specifiche da setup.py***"
   ]
  },
  {
   "cell_type": "code",
   "execution_count": 1,
   "metadata": {},
   "outputs": [],
   "source": [
    "! pip install hydra-core>=1.0.0"
   ]
  },
  {
   "cell_type": "code",
   "execution_count": 2,
   "metadata": {},
   "outputs": [
    {
     "name": "stdout",
     "output_type": "stream",
     "text": [
      "Requirement already satisfied: torch in /home/angelo/.conda/envs/tapas/lib/python3.9/site-packages (2.3.1)\n",
      "Requirement already satisfied: filelock in /home/angelo/.conda/envs/tapas/lib/python3.9/site-packages (from torch) (3.15.4)\n",
      "Requirement already satisfied: typing-extensions>=4.8.0 in /home/angelo/.conda/envs/tapas/lib/python3.9/site-packages (from torch) (4.11.0)\n",
      "Requirement already satisfied: sympy in /home/angelo/.conda/envs/tapas/lib/python3.9/site-packages (from torch) (1.13.1)\n",
      "Requirement already satisfied: networkx in /home/angelo/.conda/envs/tapas/lib/python3.9/site-packages (from torch) (3.2.1)\n",
      "Requirement already satisfied: jinja2 in /home/angelo/.conda/envs/tapas/lib/python3.9/site-packages (from torch) (3.1.4)\n",
      "Requirement already satisfied: fsspec in /home/angelo/.conda/envs/tapas/lib/python3.9/site-packages (from torch) (2024.6.1)\n",
      "Requirement already satisfied: nvidia-cuda-nvrtc-cu12==12.1.105 in /home/angelo/.conda/envs/tapas/lib/python3.9/site-packages (from torch) (12.1.105)\n",
      "Requirement already satisfied: nvidia-cuda-runtime-cu12==12.1.105 in /home/angelo/.conda/envs/tapas/lib/python3.9/site-packages (from torch) (12.1.105)\n",
      "Requirement already satisfied: nvidia-cuda-cupti-cu12==12.1.105 in /home/angelo/.conda/envs/tapas/lib/python3.9/site-packages (from torch) (12.1.105)\n",
      "Requirement already satisfied: nvidia-cudnn-cu12==8.9.2.26 in /home/angelo/.conda/envs/tapas/lib/python3.9/site-packages (from torch) (8.9.2.26)\n",
      "Requirement already satisfied: nvidia-cublas-cu12==12.1.3.1 in /home/angelo/.conda/envs/tapas/lib/python3.9/site-packages (from torch) (12.1.3.1)\n",
      "Requirement already satisfied: nvidia-cufft-cu12==11.0.2.54 in /home/angelo/.conda/envs/tapas/lib/python3.9/site-packages (from torch) (11.0.2.54)\n",
      "Requirement already satisfied: nvidia-curand-cu12==10.3.2.106 in /home/angelo/.conda/envs/tapas/lib/python3.9/site-packages (from torch) (10.3.2.106)\n",
      "Requirement already satisfied: nvidia-cusolver-cu12==11.4.5.107 in /home/angelo/.conda/envs/tapas/lib/python3.9/site-packages (from torch) (11.4.5.107)\n",
      "Requirement already satisfied: nvidia-cusparse-cu12==12.1.0.106 in /home/angelo/.conda/envs/tapas/lib/python3.9/site-packages (from torch) (12.1.0.106)\n",
      "Requirement already satisfied: nvidia-nccl-cu12==2.20.5 in /home/angelo/.conda/envs/tapas/lib/python3.9/site-packages (from torch) (2.20.5)\n",
      "Requirement already satisfied: nvidia-nvtx-cu12==12.1.105 in /home/angelo/.conda/envs/tapas/lib/python3.9/site-packages (from torch) (12.1.105)\n",
      "Requirement already satisfied: triton==2.3.1 in /home/angelo/.conda/envs/tapas/lib/python3.9/site-packages (from torch) (2.3.1)\n",
      "Requirement already satisfied: nvidia-nvjitlink-cu12 in /home/angelo/.conda/envs/tapas/lib/python3.9/site-packages (from nvidia-cusolver-cu12==11.4.5.107->torch) (12.3.101)\n",
      "Requirement already satisfied: MarkupSafe>=2.0 in /home/angelo/.conda/envs/tapas/lib/python3.9/site-packages (from jinja2->torch) (2.0.0)\n",
      "Requirement already satisfied: mpmath<1.4,>=1.1.0 in /home/angelo/.conda/envs/tapas/lib/python3.9/site-packages (from sympy->torch) (1.3.0)\n"
     ]
    }
   ],
   "source": [
    "! pip install torch"
   ]
  },
  {
   "cell_type": "code",
   "execution_count": 3,
   "metadata": {},
   "outputs": [
    {
     "name": "stdout",
     "output_type": "stream",
     "text": [
      "Requirement already satisfied: regex in /home/angelo/.conda/envs/tapas/lib/python3.9/site-packages (2024.5.15)\n",
      "Requirement already satisfied: numpy in /home/angelo/.conda/envs/tapas/lib/python3.9/site-packages (1.26.4)\n",
      "Requirement already satisfied: filelock in /home/angelo/.conda/envs/tapas/lib/python3.9/site-packages (3.15.4)\n"
     ]
    }
   ],
   "source": [
    "! pip install regex\n",
    "! pip install numpy\n",
    "! pip install filelock"
   ]
  },
  {
   "cell_type": "code",
   "execution_count": 6,
   "metadata": {},
   "outputs": [
    {
     "name": "stdout",
     "output_type": "stream",
     "text": [
      "Requirement already satisfied: wget in /home/angelo/.conda/envs/tapas/lib/python3.9/site-packages (3.2)\n",
      "Requirement already satisfied: jsonlines in /home/angelo/.conda/envs/tapas/lib/python3.9/site-packages (4.0.0)\n",
      "Requirement already satisfied: attrs>=19.2.0 in /home/angelo/.conda/envs/tapas/lib/python3.9/site-packages (from jsonlines) (23.2.0)\n",
      "Requirement already satisfied: editdistance in /home/angelo/.conda/envs/tapas/lib/python3.9/site-packages (0.8.1)\n"
     ]
    }
   ],
   "source": [
    "! pip install wget\n",
    "! pip install jsonlines\n",
    "! pip install editdistance"
   ]
  },
  {
   "cell_type": "code",
   "execution_count": 5,
   "metadata": {},
   "outputs": [
    {
     "name": "stdout",
     "output_type": "stream",
     "text": [
      "Requirement already satisfied: attrs in /home/angelo/.conda/envs/tapas/lib/python3.9/site-packages (23.2.0)\n"
     ]
    }
   ],
   "source": [
    "! pip install attrs"
   ]
  },
  {
   "cell_type": "code",
   "execution_count": 8,
   "metadata": {},
   "outputs": [],
   "source": [
    "! pip install transformers>=4.3\n",
    "! pip install tqdm>=4.27"
   ]
  },
  {
   "cell_type": "code",
   "execution_count": 9,
   "metadata": {},
   "outputs": [],
   "source": [
    "! pip install spacy>=2.1.8\n",
    "! pip install omegaconf>=2.0.1 "
   ]
  },
  {
   "cell_type": "code",
   "execution_count": 10,
   "metadata": {},
   "outputs": [
    {
     "name": "stdout",
     "output_type": "stream",
     "text": [
      "Collecting en-core-web-sm==3.7.1\n",
      "  Downloading https://github.com/explosion/spacy-models/releases/download/en_core_web_sm-3.7.1/en_core_web_sm-3.7.1-py3-none-any.whl (12.8 MB)\n",
      "\u001b[2K     \u001b[90m━━━━━━━━━━━━━━━━━━━━━━━━━━━━━━━━━━━━━━━━\u001b[0m \u001b[32m12.8/12.8 MB\u001b[0m \u001b[31m10.7 MB/s\u001b[0m eta \u001b[36m0:00:00\u001b[0m00:01\u001b[0m00:01\u001b[0m\n",
      "\u001b[?25hRequirement already satisfied: spacy<3.8.0,>=3.7.2 in /home/angelo/.conda/envs/tapas/lib/python3.9/site-packages (from en-core-web-sm==3.7.1) (3.7.5)\n",
      "Requirement already satisfied: spacy-legacy<3.1.0,>=3.0.11 in /home/angelo/.conda/envs/tapas/lib/python3.9/site-packages (from spacy<3.8.0,>=3.7.2->en-core-web-sm==3.7.1) (3.0.12)\n",
      "Requirement already satisfied: spacy-loggers<2.0.0,>=1.0.0 in /home/angelo/.conda/envs/tapas/lib/python3.9/site-packages (from spacy<3.8.0,>=3.7.2->en-core-web-sm==3.7.1) (1.0.5)\n",
      "Requirement already satisfied: murmurhash<1.1.0,>=0.28.0 in /home/angelo/.conda/envs/tapas/lib/python3.9/site-packages (from spacy<3.8.0,>=3.7.2->en-core-web-sm==3.7.1) (1.0.10)\n",
      "Requirement already satisfied: cymem<2.1.0,>=2.0.2 in /home/angelo/.conda/envs/tapas/lib/python3.9/site-packages (from spacy<3.8.0,>=3.7.2->en-core-web-sm==3.7.1) (2.0.8)\n",
      "Requirement already satisfied: preshed<3.1.0,>=3.0.2 in /home/angelo/.conda/envs/tapas/lib/python3.9/site-packages (from spacy<3.8.0,>=3.7.2->en-core-web-sm==3.7.1) (3.0.9)\n",
      "Requirement already satisfied: thinc<8.3.0,>=8.2.2 in /home/angelo/.conda/envs/tapas/lib/python3.9/site-packages (from spacy<3.8.0,>=3.7.2->en-core-web-sm==3.7.1) (8.2.5)\n",
      "Requirement already satisfied: wasabi<1.2.0,>=0.9.1 in /home/angelo/.conda/envs/tapas/lib/python3.9/site-packages (from spacy<3.8.0,>=3.7.2->en-core-web-sm==3.7.1) (1.1.3)\n",
      "Requirement already satisfied: srsly<3.0.0,>=2.4.3 in /home/angelo/.conda/envs/tapas/lib/python3.9/site-packages (from spacy<3.8.0,>=3.7.2->en-core-web-sm==3.7.1) (2.4.8)\n",
      "Requirement already satisfied: catalogue<2.1.0,>=2.0.6 in /home/angelo/.conda/envs/tapas/lib/python3.9/site-packages (from spacy<3.8.0,>=3.7.2->en-core-web-sm==3.7.1) (2.0.10)\n",
      "Requirement already satisfied: weasel<0.5.0,>=0.1.0 in /home/angelo/.conda/envs/tapas/lib/python3.9/site-packages (from spacy<3.8.0,>=3.7.2->en-core-web-sm==3.7.1) (0.4.1)\n",
      "Requirement already satisfied: typer<1.0.0,>=0.3.0 in /home/angelo/.conda/envs/tapas/lib/python3.9/site-packages (from spacy<3.8.0,>=3.7.2->en-core-web-sm==3.7.1) (0.12.3)\n",
      "Requirement already satisfied: tqdm<5.0.0,>=4.38.0 in /home/angelo/.conda/envs/tapas/lib/python3.9/site-packages (from spacy<3.8.0,>=3.7.2->en-core-web-sm==3.7.1) (4.66.4)\n",
      "Requirement already satisfied: requests<3.0.0,>=2.13.0 in /home/angelo/.conda/envs/tapas/lib/python3.9/site-packages (from spacy<3.8.0,>=3.7.2->en-core-web-sm==3.7.1) (2.31.0)\n",
      "Requirement already satisfied: pydantic!=1.8,!=1.8.1,<3.0.0,>=1.7.4 in /home/angelo/.conda/envs/tapas/lib/python3.9/site-packages (from spacy<3.8.0,>=3.7.2->en-core-web-sm==3.7.1) (2.8.2)\n",
      "Requirement already satisfied: jinja2 in /home/angelo/.conda/envs/tapas/lib/python3.9/site-packages (from spacy<3.8.0,>=3.7.2->en-core-web-sm==3.7.1) (3.1.4)\n",
      "Requirement already satisfied: setuptools in /home/angelo/.conda/envs/tapas/lib/python3.9/site-packages (from spacy<3.8.0,>=3.7.2->en-core-web-sm==3.7.1) (69.5.1)\n",
      "Requirement already satisfied: packaging>=20.0 in /home/angelo/.conda/envs/tapas/lib/python3.9/site-packages (from spacy<3.8.0,>=3.7.2->en-core-web-sm==3.7.1) (24.1)\n",
      "Requirement already satisfied: langcodes<4.0.0,>=3.2.0 in /home/angelo/.conda/envs/tapas/lib/python3.9/site-packages (from spacy<3.8.0,>=3.7.2->en-core-web-sm==3.7.1) (3.4.0)\n",
      "Requirement already satisfied: numpy>=1.19.0 in /home/angelo/.conda/envs/tapas/lib/python3.9/site-packages (from spacy<3.8.0,>=3.7.2->en-core-web-sm==3.7.1) (1.26.4)\n",
      "Requirement already satisfied: language-data>=1.2 in /home/angelo/.conda/envs/tapas/lib/python3.9/site-packages (from langcodes<4.0.0,>=3.2.0->spacy<3.8.0,>=3.7.2->en-core-web-sm==3.7.1) (1.2.0)\n",
      "Requirement already satisfied: annotated-types>=0.4.0 in /home/angelo/.conda/envs/tapas/lib/python3.9/site-packages (from pydantic!=1.8,!=1.8.1,<3.0.0,>=1.7.4->spacy<3.8.0,>=3.7.2->en-core-web-sm==3.7.1) (0.7.0)\n",
      "Requirement already satisfied: pydantic-core==2.20.1 in /home/angelo/.conda/envs/tapas/lib/python3.9/site-packages (from pydantic!=1.8,!=1.8.1,<3.0.0,>=1.7.4->spacy<3.8.0,>=3.7.2->en-core-web-sm==3.7.1) (2.20.1)\n",
      "Requirement already satisfied: typing-extensions>=4.6.1 in /home/angelo/.conda/envs/tapas/lib/python3.9/site-packages (from pydantic!=1.8,!=1.8.1,<3.0.0,>=1.7.4->spacy<3.8.0,>=3.7.2->en-core-web-sm==3.7.1) (4.11.0)\n",
      "Requirement already satisfied: charset-normalizer<4,>=2 in /home/angelo/.conda/envs/tapas/lib/python3.9/site-packages (from requests<3.0.0,>=2.13.0->spacy<3.8.0,>=3.7.2->en-core-web-sm==3.7.1) (3.3.2)\n",
      "Requirement already satisfied: idna<4,>=2.5 in /home/angelo/.conda/envs/tapas/lib/python3.9/site-packages (from requests<3.0.0,>=2.13.0->spacy<3.8.0,>=3.7.2->en-core-web-sm==3.7.1) (3.7)\n",
      "Requirement already satisfied: urllib3<3,>=1.21.1 in /home/angelo/.conda/envs/tapas/lib/python3.9/site-packages (from requests<3.0.0,>=2.13.0->spacy<3.8.0,>=3.7.2->en-core-web-sm==3.7.1) (2.2.2)\n",
      "Requirement already satisfied: certifi>=2017.4.17 in /home/angelo/.conda/envs/tapas/lib/python3.9/site-packages (from requests<3.0.0,>=2.13.0->spacy<3.8.0,>=3.7.2->en-core-web-sm==3.7.1) (2024.7.4)\n",
      "Requirement already satisfied: blis<0.8.0,>=0.7.8 in /home/angelo/.conda/envs/tapas/lib/python3.9/site-packages (from thinc<8.3.0,>=8.2.2->spacy<3.8.0,>=3.7.2->en-core-web-sm==3.7.1) (0.7.11)\n",
      "Requirement already satisfied: confection<1.0.0,>=0.0.1 in /home/angelo/.conda/envs/tapas/lib/python3.9/site-packages (from thinc<8.3.0,>=8.2.2->spacy<3.8.0,>=3.7.2->en-core-web-sm==3.7.1) (0.1.5)\n",
      "Requirement already satisfied: click>=8.0.0 in /home/angelo/.conda/envs/tapas/lib/python3.9/site-packages (from typer<1.0.0,>=0.3.0->spacy<3.8.0,>=3.7.2->en-core-web-sm==3.7.1) (8.1.7)\n",
      "Requirement already satisfied: shellingham>=1.3.0 in /home/angelo/.conda/envs/tapas/lib/python3.9/site-packages (from typer<1.0.0,>=0.3.0->spacy<3.8.0,>=3.7.2->en-core-web-sm==3.7.1) (1.5.4)\n",
      "Requirement already satisfied: rich>=10.11.0 in /home/angelo/.conda/envs/tapas/lib/python3.9/site-packages (from typer<1.0.0,>=0.3.0->spacy<3.8.0,>=3.7.2->en-core-web-sm==3.7.1) (13.7.1)\n",
      "Requirement already satisfied: cloudpathlib<1.0.0,>=0.7.0 in /home/angelo/.conda/envs/tapas/lib/python3.9/site-packages (from weasel<0.5.0,>=0.1.0->spacy<3.8.0,>=3.7.2->en-core-web-sm==3.7.1) (0.18.1)\n",
      "Requirement already satisfied: smart-open<8.0.0,>=5.2.1 in /home/angelo/.conda/envs/tapas/lib/python3.9/site-packages (from weasel<0.5.0,>=0.1.0->spacy<3.8.0,>=3.7.2->en-core-web-sm==3.7.1) (7.0.4)\n",
      "Requirement already satisfied: MarkupSafe>=2.0 in /home/angelo/.conda/envs/tapas/lib/python3.9/site-packages (from jinja2->spacy<3.8.0,>=3.7.2->en-core-web-sm==3.7.1) (2.0.0)\n",
      "Requirement already satisfied: marisa-trie>=0.7.7 in /home/angelo/.conda/envs/tapas/lib/python3.9/site-packages (from language-data>=1.2->langcodes<4.0.0,>=3.2.0->spacy<3.8.0,>=3.7.2->en-core-web-sm==3.7.1) (1.2.0)\n",
      "Requirement already satisfied: markdown-it-py>=2.2.0 in /home/angelo/.conda/envs/tapas/lib/python3.9/site-packages (from rich>=10.11.0->typer<1.0.0,>=0.3.0->spacy<3.8.0,>=3.7.2->en-core-web-sm==3.7.1) (3.0.0)\n",
      "Requirement already satisfied: pygments<3.0.0,>=2.13.0 in /home/angelo/.conda/envs/tapas/lib/python3.9/site-packages (from rich>=10.11.0->typer<1.0.0,>=0.3.0->spacy<3.8.0,>=3.7.2->en-core-web-sm==3.7.1) (2.15.1)\n",
      "Requirement already satisfied: wrapt in /home/angelo/.conda/envs/tapas/lib/python3.9/site-packages (from smart-open<8.0.0,>=5.2.1->weasel<0.5.0,>=0.1.0->spacy<3.8.0,>=3.7.2->en-core-web-sm==3.7.1) (1.12.1)\n",
      "Requirement already satisfied: mdurl~=0.1 in /home/angelo/.conda/envs/tapas/lib/python3.9/site-packages (from markdown-it-py>=2.2.0->rich>=10.11.0->typer<1.0.0,>=0.3.0->spacy<3.8.0,>=3.7.2->en-core-web-sm==3.7.1) (0.1.2)\n",
      "\u001b[38;5;2m✔ Download and installation successful\u001b[0m\n",
      "You can now load the package via spacy.load('en_core_web_sm')\n"
     ]
    }
   ],
   "source": [
    "!  python -m spacy download en_core_web_sm"
   ]
  },
  {
   "cell_type": "code",
   "execution_count": 11,
   "metadata": {},
   "outputs": [],
   "source": [
    "! pip install MarkupSafe>=2.0.0"
   ]
  },
  {
   "cell_type": "code",
   "execution_count": 12,
   "metadata": {},
   "outputs": [
    {
     "name": "stdout",
     "output_type": "stream",
     "text": [
      "Collecting en-core-web-sm==3.7.1\n",
      "  Using cached https://github.com/explosion/spacy-models/releases/download/en_core_web_sm-3.7.1/en_core_web_sm-3.7.1-py3-none-any.whl (12.8 MB)\n",
      "Requirement already satisfied: spacy<3.8.0,>=3.7.2 in /home/angelo/.conda/envs/tapas/lib/python3.9/site-packages (from en-core-web-sm==3.7.1) (3.7.5)\n",
      "Requirement already satisfied: spacy-legacy<3.1.0,>=3.0.11 in /home/angelo/.conda/envs/tapas/lib/python3.9/site-packages (from spacy<3.8.0,>=3.7.2->en-core-web-sm==3.7.1) (3.0.12)\n",
      "Requirement already satisfied: spacy-loggers<2.0.0,>=1.0.0 in /home/angelo/.conda/envs/tapas/lib/python3.9/site-packages (from spacy<3.8.0,>=3.7.2->en-core-web-sm==3.7.1) (1.0.5)\n",
      "Requirement already satisfied: murmurhash<1.1.0,>=0.28.0 in /home/angelo/.conda/envs/tapas/lib/python3.9/site-packages (from spacy<3.8.0,>=3.7.2->en-core-web-sm==3.7.1) (1.0.10)\n",
      "Requirement already satisfied: cymem<2.1.0,>=2.0.2 in /home/angelo/.conda/envs/tapas/lib/python3.9/site-packages (from spacy<3.8.0,>=3.7.2->en-core-web-sm==3.7.1) (2.0.8)\n",
      "Requirement already satisfied: preshed<3.1.0,>=3.0.2 in /home/angelo/.conda/envs/tapas/lib/python3.9/site-packages (from spacy<3.8.0,>=3.7.2->en-core-web-sm==3.7.1) (3.0.9)\n",
      "Requirement already satisfied: thinc<8.3.0,>=8.2.2 in /home/angelo/.conda/envs/tapas/lib/python3.9/site-packages (from spacy<3.8.0,>=3.7.2->en-core-web-sm==3.7.1) (8.2.5)\n",
      "Requirement already satisfied: wasabi<1.2.0,>=0.9.1 in /home/angelo/.conda/envs/tapas/lib/python3.9/site-packages (from spacy<3.8.0,>=3.7.2->en-core-web-sm==3.7.1) (1.1.3)\n",
      "Requirement already satisfied: srsly<3.0.0,>=2.4.3 in /home/angelo/.conda/envs/tapas/lib/python3.9/site-packages (from spacy<3.8.0,>=3.7.2->en-core-web-sm==3.7.1) (2.4.8)\n",
      "Requirement already satisfied: catalogue<2.1.0,>=2.0.6 in /home/angelo/.conda/envs/tapas/lib/python3.9/site-packages (from spacy<3.8.0,>=3.7.2->en-core-web-sm==3.7.1) (2.0.10)\n",
      "Requirement already satisfied: weasel<0.5.0,>=0.1.0 in /home/angelo/.conda/envs/tapas/lib/python3.9/site-packages (from spacy<3.8.0,>=3.7.2->en-core-web-sm==3.7.1) (0.4.1)\n",
      "Requirement already satisfied: typer<1.0.0,>=0.3.0 in /home/angelo/.conda/envs/tapas/lib/python3.9/site-packages (from spacy<3.8.0,>=3.7.2->en-core-web-sm==3.7.1) (0.12.3)\n",
      "Requirement already satisfied: tqdm<5.0.0,>=4.38.0 in /home/angelo/.conda/envs/tapas/lib/python3.9/site-packages (from spacy<3.8.0,>=3.7.2->en-core-web-sm==3.7.1) (4.66.4)\n",
      "Requirement already satisfied: requests<3.0.0,>=2.13.0 in /home/angelo/.conda/envs/tapas/lib/python3.9/site-packages (from spacy<3.8.0,>=3.7.2->en-core-web-sm==3.7.1) (2.31.0)\n",
      "Requirement already satisfied: pydantic!=1.8,!=1.8.1,<3.0.0,>=1.7.4 in /home/angelo/.conda/envs/tapas/lib/python3.9/site-packages (from spacy<3.8.0,>=3.7.2->en-core-web-sm==3.7.1) (2.8.2)\n",
      "Requirement already satisfied: jinja2 in /home/angelo/.conda/envs/tapas/lib/python3.9/site-packages (from spacy<3.8.0,>=3.7.2->en-core-web-sm==3.7.1) (3.1.4)\n",
      "Requirement already satisfied: setuptools in /home/angelo/.conda/envs/tapas/lib/python3.9/site-packages (from spacy<3.8.0,>=3.7.2->en-core-web-sm==3.7.1) (69.5.1)\n",
      "Requirement already satisfied: packaging>=20.0 in /home/angelo/.conda/envs/tapas/lib/python3.9/site-packages (from spacy<3.8.0,>=3.7.2->en-core-web-sm==3.7.1) (24.1)\n",
      "Requirement already satisfied: langcodes<4.0.0,>=3.2.0 in /home/angelo/.conda/envs/tapas/lib/python3.9/site-packages (from spacy<3.8.0,>=3.7.2->en-core-web-sm==3.7.1) (3.4.0)\n",
      "Requirement already satisfied: numpy>=1.19.0 in /home/angelo/.conda/envs/tapas/lib/python3.9/site-packages (from spacy<3.8.0,>=3.7.2->en-core-web-sm==3.7.1) (1.26.4)\n",
      "Requirement already satisfied: language-data>=1.2 in /home/angelo/.conda/envs/tapas/lib/python3.9/site-packages (from langcodes<4.0.0,>=3.2.0->spacy<3.8.0,>=3.7.2->en-core-web-sm==3.7.1) (1.2.0)\n",
      "Requirement already satisfied: annotated-types>=0.4.0 in /home/angelo/.conda/envs/tapas/lib/python3.9/site-packages (from pydantic!=1.8,!=1.8.1,<3.0.0,>=1.7.4->spacy<3.8.0,>=3.7.2->en-core-web-sm==3.7.1) (0.7.0)\n",
      "Requirement already satisfied: pydantic-core==2.20.1 in /home/angelo/.conda/envs/tapas/lib/python3.9/site-packages (from pydantic!=1.8,!=1.8.1,<3.0.0,>=1.7.4->spacy<3.8.0,>=3.7.2->en-core-web-sm==3.7.1) (2.20.1)\n",
      "Requirement already satisfied: typing-extensions>=4.6.1 in /home/angelo/.conda/envs/tapas/lib/python3.9/site-packages (from pydantic!=1.8,!=1.8.1,<3.0.0,>=1.7.4->spacy<3.8.0,>=3.7.2->en-core-web-sm==3.7.1) (4.11.0)\n",
      "Requirement already satisfied: charset-normalizer<4,>=2 in /home/angelo/.conda/envs/tapas/lib/python3.9/site-packages (from requests<3.0.0,>=2.13.0->spacy<3.8.0,>=3.7.2->en-core-web-sm==3.7.1) (3.3.2)\n",
      "Requirement already satisfied: idna<4,>=2.5 in /home/angelo/.conda/envs/tapas/lib/python3.9/site-packages (from requests<3.0.0,>=2.13.0->spacy<3.8.0,>=3.7.2->en-core-web-sm==3.7.1) (3.7)\n",
      "Requirement already satisfied: urllib3<3,>=1.21.1 in /home/angelo/.conda/envs/tapas/lib/python3.9/site-packages (from requests<3.0.0,>=2.13.0->spacy<3.8.0,>=3.7.2->en-core-web-sm==3.7.1) (2.2.2)\n",
      "Requirement already satisfied: certifi>=2017.4.17 in /home/angelo/.conda/envs/tapas/lib/python3.9/site-packages (from requests<3.0.0,>=2.13.0->spacy<3.8.0,>=3.7.2->en-core-web-sm==3.7.1) (2024.7.4)\n",
      "Requirement already satisfied: blis<0.8.0,>=0.7.8 in /home/angelo/.conda/envs/tapas/lib/python3.9/site-packages (from thinc<8.3.0,>=8.2.2->spacy<3.8.0,>=3.7.2->en-core-web-sm==3.7.1) (0.7.11)\n",
      "Requirement already satisfied: confection<1.0.0,>=0.0.1 in /home/angelo/.conda/envs/tapas/lib/python3.9/site-packages (from thinc<8.3.0,>=8.2.2->spacy<3.8.0,>=3.7.2->en-core-web-sm==3.7.1) (0.1.5)\n",
      "Requirement already satisfied: click>=8.0.0 in /home/angelo/.conda/envs/tapas/lib/python3.9/site-packages (from typer<1.0.0,>=0.3.0->spacy<3.8.0,>=3.7.2->en-core-web-sm==3.7.1) (8.1.7)\n",
      "Requirement already satisfied: shellingham>=1.3.0 in /home/angelo/.conda/envs/tapas/lib/python3.9/site-packages (from typer<1.0.0,>=0.3.0->spacy<3.8.0,>=3.7.2->en-core-web-sm==3.7.1) (1.5.4)\n",
      "Requirement already satisfied: rich>=10.11.0 in /home/angelo/.conda/envs/tapas/lib/python3.9/site-packages (from typer<1.0.0,>=0.3.0->spacy<3.8.0,>=3.7.2->en-core-web-sm==3.7.1) (13.7.1)\n",
      "Requirement already satisfied: cloudpathlib<1.0.0,>=0.7.0 in /home/angelo/.conda/envs/tapas/lib/python3.9/site-packages (from weasel<0.5.0,>=0.1.0->spacy<3.8.0,>=3.7.2->en-core-web-sm==3.7.1) (0.18.1)\n",
      "Requirement already satisfied: smart-open<8.0.0,>=5.2.1 in /home/angelo/.conda/envs/tapas/lib/python3.9/site-packages (from weasel<0.5.0,>=0.1.0->spacy<3.8.0,>=3.7.2->en-core-web-sm==3.7.1) (7.0.4)\n",
      "Requirement already satisfied: MarkupSafe>=2.0 in /home/angelo/.conda/envs/tapas/lib/python3.9/site-packages (from jinja2->spacy<3.8.0,>=3.7.2->en-core-web-sm==3.7.1) (2.0.0)\n",
      "Requirement already satisfied: marisa-trie>=0.7.7 in /home/angelo/.conda/envs/tapas/lib/python3.9/site-packages (from language-data>=1.2->langcodes<4.0.0,>=3.2.0->spacy<3.8.0,>=3.7.2->en-core-web-sm==3.7.1) (1.2.0)\n",
      "Requirement already satisfied: markdown-it-py>=2.2.0 in /home/angelo/.conda/envs/tapas/lib/python3.9/site-packages (from rich>=10.11.0->typer<1.0.0,>=0.3.0->spacy<3.8.0,>=3.7.2->en-core-web-sm==3.7.1) (3.0.0)\n",
      "Requirement already satisfied: pygments<3.0.0,>=2.13.0 in /home/angelo/.conda/envs/tapas/lib/python3.9/site-packages (from rich>=10.11.0->typer<1.0.0,>=0.3.0->spacy<3.8.0,>=3.7.2->en-core-web-sm==3.7.1) (2.15.1)\n",
      "Requirement already satisfied: wrapt in /home/angelo/.conda/envs/tapas/lib/python3.9/site-packages (from smart-open<8.0.0,>=5.2.1->weasel<0.5.0,>=0.1.0->spacy<3.8.0,>=3.7.2->en-core-web-sm==3.7.1) (1.12.1)\n",
      "Requirement already satisfied: mdurl~=0.1 in /home/angelo/.conda/envs/tapas/lib/python3.9/site-packages (from markdown-it-py>=2.2.0->rich>=10.11.0->typer<1.0.0,>=0.3.0->spacy<3.8.0,>=3.7.2->en-core-web-sm==3.7.1) (0.1.2)\n",
      "\u001b[38;5;2m✔ Download and installation successful\u001b[0m\n",
      "You can now load the package via spacy.load('en_core_web_sm')\n"
     ]
    }
   ],
   "source": [
    "! python -m spacy download en_core_web_sm"
   ]
  },
  {
   "cell_type": "code",
   "execution_count": 95,
   "metadata": {},
   "outputs": [
    {
     "name": "stdout",
     "output_type": "stream",
     "text": [
      "Requirement already satisfied: transformers in /home/angelo/.conda/envs/tapas/lib/python3.9/site-packages (4.42.4)\n",
      "Requirement already satisfied: filelock in /home/angelo/.conda/envs/tapas/lib/python3.9/site-packages (from transformers) (3.15.4)\n",
      "Requirement already satisfied: huggingface-hub<1.0,>=0.23.2 in /home/angelo/.conda/envs/tapas/lib/python3.9/site-packages (from transformers) (0.24.0)\n",
      "Requirement already satisfied: numpy<2.0,>=1.17 in /home/angelo/.conda/envs/tapas/lib/python3.9/site-packages (from transformers) (1.26.4)\n",
      "Requirement already satisfied: packaging>=20.0 in /home/angelo/.conda/envs/tapas/lib/python3.9/site-packages (from transformers) (24.1)\n",
      "Requirement already satisfied: pyyaml>=5.1 in /home/angelo/.conda/envs/tapas/lib/python3.9/site-packages (from transformers) (6.0.1)\n",
      "Requirement already satisfied: regex!=2019.12.17 in /home/angelo/.conda/envs/tapas/lib/python3.9/site-packages (from transformers) (2024.5.15)\n",
      "Requirement already satisfied: requests in /home/angelo/.conda/envs/tapas/lib/python3.9/site-packages (from transformers) (2.31.0)\n",
      "Requirement already satisfied: safetensors>=0.4.1 in /home/angelo/.conda/envs/tapas/lib/python3.9/site-packages (from transformers) (0.4.3)\n",
      "Requirement already satisfied: tokenizers<0.20,>=0.19 in /home/angelo/.conda/envs/tapas/lib/python3.9/site-packages (from transformers) (0.19.1)\n",
      "Requirement already satisfied: tqdm>=4.27 in /home/angelo/.conda/envs/tapas/lib/python3.9/site-packages (from transformers) (4.66.4)\n",
      "Requirement already satisfied: fsspec>=2023.5.0 in /home/angelo/.conda/envs/tapas/lib/python3.9/site-packages (from huggingface-hub<1.0,>=0.23.2->transformers) (2024.6.1)\n",
      "Requirement already satisfied: typing-extensions>=3.7.4.3 in /home/angelo/.conda/envs/tapas/lib/python3.9/site-packages (from huggingface-hub<1.0,>=0.23.2->transformers) (4.11.0)\n",
      "Requirement already satisfied: charset-normalizer<4,>=2 in /home/angelo/.conda/envs/tapas/lib/python3.9/site-packages (from requests->transformers) (3.3.2)\n",
      "Requirement already satisfied: idna<4,>=2.5 in /home/angelo/.conda/envs/tapas/lib/python3.9/site-packages (from requests->transformers) (3.7)\n",
      "Requirement already satisfied: urllib3<3,>=1.21.1 in /home/angelo/.conda/envs/tapas/lib/python3.9/site-packages (from requests->transformers) (2.2.2)\n",
      "Requirement already satisfied: certifi>=2017.4.17 in /home/angelo/.conda/envs/tapas/lib/python3.9/site-packages (from requests->transformers) (2024.7.4)\n"
     ]
    }
   ],
   "source": [
    "! pip install transformers"
   ]
  },
  {
   "cell_type": "code",
   "execution_count": null,
   "metadata": {},
   "outputs": [],
   "source": []
  },
  {
   "cell_type": "markdown",
   "metadata": {},
   "source": [
    "***Test generate embedding***"
   ]
  },
  {
   "cell_type": "code",
   "execution_count": 2,
   "metadata": {},
   "outputs": [
    {
     "name": "stderr",
     "output_type": "stream",
     "text": [
      "/home/angelo/.conda/envs/tapas/lib/python3.9/site-packages/tqdm/auto.py:21: TqdmWarning: IProgress not found. Please update jupyter and ipywidgets. See https://ipywidgets.readthedocs.io/en/stable/user_install.html\n",
      "  from .autonotebook import tqdm as notebook_tqdm\n"
     ]
    }
   ],
   "source": [
    "\"\"\"Generate dense embeddings. \"\"\"\n",
    "from hydra.errors import HydraException\n",
    "import os \n",
    "import math \n",
    "import hydra\n",
    "import pickle \n",
    "import pathlib\n",
    "import logging \n",
    "\n",
    "import torch \n",
    "import torch.nn as nn \n",
    "\n",
    "from typing import List, Tuple \n",
    "from omegaconf import DictConfig, OmegaConf\n",
    "from dpr.options import set_cfg_params_from_state, setup_cfg_gpu, setup_logger\n",
    "from dpr.utils.data_utils import Tensorizer\n",
    "from dpr.utils.model_utils import (\n",
    "    setup_for_distributed_mode,\n",
    "    get_model_obj,\n",
    "    load_states_from_checkpoint,\n",
    "    move_to_device,\n",
    ")\n",
    "from dpr.models import init_biencoder_components\n",
    "from dpr.data.biencoder_data import BiEncoderTable\n",
    "from dpr.data.table_data import prepare_table_ctx_inputs_batch\n",
    "\n",
    "\n",
    "logger = logging.getLogger()\n",
    "setup_logger(logger)\n"
   ]
  },
  {
   "cell_type": "code",
   "execution_count": 4,
   "metadata": {},
   "outputs": [],
   "source": [
    "\n",
    "def get_table_ctx_vectors(\n",
    "    cfg: DictConfig, \n",
    "    ctx_rows: List[Tuple[object, BiEncoderTable]], \n",
    "    model: nn.Module, \n",
    "    tensorizer: Tensorizer, \n",
    "    insert_title: bool = True, \n",
    "): \n",
    "    \"\"\"Encode table with context encoder under global/rowcol/auxemb settings.\"\"\"\n",
    "    n = len(ctx_rows) \n",
    "    bsz = cfg.batch_size \n",
    "    total = 0 \n",
    "    results = [] \n",
    "    for j, batch_start in enumerate(range(0, n, bsz)): \n",
    "        batch = ctx_rows[batch_start: batch_start + bsz] \n",
    "        input_tensors = prepare_table_ctx_inputs_batch(\n",
    "            batch, \n",
    "            tensorizer.tokenizer, \n",
    "            cfg.structure_option, \n",
    "            insert_title, \n",
    "            cfg.max_sequence_length, \n",
    "        )\n",
    "        ctx_ids_batch = move_to_device(input_tensors['token_ids'], cfg.device)\n",
    "        ctx_seg_batch = move_to_device(torch.zeros_like(ctx_ids_batch).long(), cfg.device)\n",
    "        \n",
    "        if cfg.structure_option == \"rowcol\": \n",
    "            ctx_attn_mask = move_to_device(input_tensors['attn_mask'], cfg.device) \n",
    "        else: \n",
    "            ctx_attn_mask = move_to_device(tensorizer.get_attn_mask(ctx_ids_batch), cfg.device)\n",
    "        \n",
    "        if cfg.structure_option == 'auxemb': \n",
    "            ctx_row_batch = move_to_device(input_tensors['row_ids'], cfg.device) \n",
    "            ctx_col_batch = move_to_device(input_tensors['column_ids'], cfg.device)\n",
    "            with torch.no_grad(): \n",
    "                _, out, _ = model(\n",
    "                    input_ids=ctx_ids_batch, \n",
    "                    token_type_ids=ctx_seg_batch, \n",
    "                    attention_mask=ctx_attn_mask, \n",
    "                    row_ids=ctx_row_batch, \n",
    "                    column_ids=ctx_col_batch, \n",
    "                )\n",
    "        elif cfg.structure_option == \"biased\": \n",
    "            ctx_attn_mask = move_to_device(tensorizer.get_attn_mask(ctx_ids_batch), cfg.device)\n",
    "            ctx_bias_mask_id = move_to_device(input_tensors['row_ids'], cfg.device) \n",
    "            ctx_col_batch = move_to_device(input_tensors['column_ids'], cfg.device)\n",
    "            with torch.no_grad(): \n",
    "                _, out, _ = model(\n",
    "                    input_ids=ctx_ids_batch, \n",
    "                    token_type_ids=ctx_seg_batch, \n",
    "                    attention_mask=ctx_attn_mask, \n",
    "                    row_ids=ctx_bias_mask_id, \n",
    "                    column_ids=ctx_col_batch, \n",
    "                )\n",
    "        else: \n",
    "            with torch.no_grad(): \n",
    "                _, out, _ = model(\n",
    "                    input_ids=ctx_ids_batch, \n",
    "                    token_type_ids=ctx_seg_batch, \n",
    "                    attention_mask=ctx_attn_mask, \n",
    "                )\n",
    "        out = out.cpu() \n",
    "        \n",
    "        ctx_ids= [r[0] for r in batch] \n",
    "        extra_info = [] \n",
    "        if len(batch[0]) > 3: extra_info = [r[3:] for r in batch]\n",
    "        assert len(ctx_ids) == out.size(0)\n",
    "        total += len(ctx_ids)\n",
    "        \n",
    "        if extra_info:\n",
    "            results.extend([(ctx_ids[i], out[i].view(-1).numpy(), *extra_info[i]) for i in range(out.size(0))])\n",
    "        else:\n",
    "            results.extend([(ctx_ids[i], out[i].view(-1).numpy()) for i in range(out.size(0))])\n",
    "\n",
    "        if total % 10 == 0: logger.info(\"Encoded passages %d\", total)\n",
    "            \n",
    "    return results \n",
    "        \n"
   ]
  },
  {
   "cell_type": "code",
   "execution_count": 6,
   "metadata": {},
   "outputs": [
    {
     "name": "stderr",
     "output_type": "stream",
     "text": [
      "/tmp/ipykernel_772757/431333967.py:1: UserWarning: \n",
      "The version_base parameter is not specified.\n",
      "Please specify a compatability version level, or None.\n",
      "Will assume defaults for version 1.1\n",
      "  @hydra.main(config_path=\"conf\", config_name=\"gen_embs\")\n"
     ]
    }
   ],
   "source": [
    "@hydra.main(config_path=\"conf\", config_name=\"gen_embs\")\n",
    "def main(cfg: DictConfig):\n",
    "\n",
    "    assert cfg.model_file, \"Please specify encoder checkpoint as model_file param\" #nel file gen_embs.yaml va valorizzato questo attributo con un trained bi-encoder checkpoint file per inizializzare il modello\n",
    "    assert cfg.ctx_src, \"Please specify passages source as ctx_src param\" #di default è inizalizzato a nq_table\n",
    "\n",
    "    #Configura parametri per CUDA,GPU e il training distribuito\n",
    "    cfg = setup_cfg_gpu(cfg)\n",
    "\n",
    "    #queste due funzioni caricano il checkpoint e settano i parametri che vengono utilizzati successivamente\n",
    "    saved_state = load_states_from_checkpoint(cfg.model_file)\n",
    "    set_cfg_params_from_state(saved_state.encoder_params, cfg)\n",
    "\n",
    "    logger.info(\"CFG:\")\n",
    "    logger.info(\"%s\", OmegaConf.to_yaml(cfg))\n",
    "    \n",
    "    #Valorizzo variabili e preparo modello bi-encoder\n",
    "    tensorizer, encoder, _ = init_biencoder_components(cfg.encoder.encoder_model_type, cfg, inference_only=True)\n",
    "\n",
    "    encoder = encoder.ctx_model if cfg.encoder_type == \"ctx\" else encoder.question_model\n",
    "\n",
    "    #Configurazione modello pytorch\n",
    "    encoder, _ = setup_for_distributed_mode(\n",
    "        encoder, None, cfg.device, cfg.n_gpu,\n",
    "        cfg.local_rank, cfg.fp16, cfg.fp16_opt_level,\n",
    "    )\n",
    "    encoder.eval()\n",
    "\n",
    "    # load weights from the model file\n",
    "    model_to_load = get_model_obj(encoder)\n",
    "    logger.info(\"Loading saved model state ...\")\n",
    "    logger.debug(\"saved model keys =%s\", saved_state.model_dict.keys())\n",
    "\n",
    "    prefix_len = len(\"ctx_model.\")\n",
    "    ctx_state = {\n",
    "        key[prefix_len:]: value for (key, value) in saved_state.model_dict.items() if key.startswith(\"ctx_model.\")\n",
    "    }\n",
    "    model_to_load.load_state_dict(ctx_state, strict=False)\n",
    "\n",
    "    # load from table data sources \n",
    "    logger.info(\"reading data source: %s\", cfg.ctx_src)\n",
    "\n",
    "    ctx_src = hydra.utils.instantiate(cfg.ctx_sources[cfg.ctx_src])\n",
    "    all_passages_dict = {}\n",
    "    ctx_src.load_data_to(all_passages_dict, cfg)\n",
    "    all_passages = [(k, v) for k, v in all_passages_dict.items()]\n",
    "\n",
    "    shard_size = math.ceil(len(all_passages) / cfg.num_shards)\n",
    "    start_idx = cfg.shard_id * shard_size\n",
    "    end_idx = start_idx + shard_size\n",
    "\n",
    "    logger.info(\n",
    "        \"Producing encodings for passages range: %d to %d (out of total %d)\",\n",
    "        start_idx, end_idx, len(all_passages),\n",
    "    )\n",
    "    shard_passages = all_passages[start_idx:end_idx]\n",
    "    \n",
    "    #chiamo funzione definita sopra che fa l'encode con il contesto\n",
    "    data = get_table_ctx_vectors(cfg, shard_passages, encoder, tensorizer, insert_title=True)\n",
    "\n",
    "    #viene scritto l'output in nqt-retrieval/dataset/emb/Nomefile passato da terminale per eseguire lo script. per me è Fine_0\n",
    "    file = cfg.out_file + \"_\" + str(cfg.shard_id)\n",
    "    pathlib.Path(os.path.dirname(file)).mkdir(parents=True, exist_ok=True)\n",
    "    logger.info(\"Writing results to %s\" % file)\n",
    "    with open(file, mode=\"wb\") as f:\n",
    "        pickle.dump(data, f)\n",
    "\n",
    "    logger.info(\"Total passages processed %d. Written to %s\", len(data), file)\n",
    "\n"
   ]
  },
  {
   "cell_type": "markdown",
   "metadata": {},
   "source": [
    "**Main pezzo per pezzo**"
   ]
  },
  {
   "cell_type": "code",
   "execution_count": 46,
   "metadata": {},
   "outputs": [],
   "source": [
    "from omegaconf import OmegaConf\n",
    "cfg = OmegaConf.load('conf/gen_embs.yaml')"
   ]
  },
  {
   "cell_type": "code",
   "execution_count": 47,
   "metadata": {},
   "outputs": [
    {
     "name": "stderr",
     "output_type": "stream",
     "text": [
      "[140538100278528] 2024-07-24 15:11:16,928 [INFO] root: CFG's local_rank=-1\n",
      "[140538100278528] 2024-07-24 15:11:16,932 [INFO] root: Env WORLD_SIZE=None\n",
      "[140538100278528] 2024-07-24 15:11:16,934 [INFO] root: Initialized host lggpu as d.rank -1 on device=cuda, n_gpu=1, world size=1\n",
      "[140538100278528] 2024-07-24 15:11:16,935 [INFO] root: 16-bits training: False \n"
     ]
    }
   ],
   "source": [
    "cfg = setup_cfg_gpu(cfg)"
   ]
  },
  {
   "cell_type": "code",
   "execution_count": 48,
   "metadata": {},
   "outputs": [
    {
     "name": "stdout",
     "output_type": "stream",
     "text": [
      "/home/angelo/nqt-retrieval/nqt-retrieval/checkpoint/bert-base-encoder.cp\n"
     ]
    }
   ],
   "source": [
    "print(cfg.model_file)"
   ]
  },
  {
   "cell_type": "code",
   "execution_count": 49,
   "metadata": {},
   "outputs": [
    {
     "name": "stderr",
     "output_type": "stream",
     "text": [
      "[140538100278528] 2024-07-24 15:11:19,209 [INFO] root: Reading saved model from /home/angelo/nqt-retrieval/nqt-retrieval/checkpoint/bert-base-encoder.cp\n",
      "[140538100278528] 2024-07-24 15:11:19,870 [INFO] root: model_state_dict keys odict_keys(['model_dict', 'optimizer_dict', 'scheduler_dict', 'offset', 'epoch', 'encoder_params'])\n"
     ]
    }
   ],
   "source": [
    "saved_state = load_states_from_checkpoint(cfg.model_file)\n"
   ]
  },
  {
   "cell_type": "code",
   "execution_count": 50,
   "metadata": {},
   "outputs": [],
   "source": [
    "set_cfg_params_from_state(saved_state.encoder_params, cfg)"
   ]
  },
  {
   "cell_type": "code",
   "execution_count": 51,
   "metadata": {},
   "outputs": [
    {
     "name": "stderr",
     "output_type": "stream",
     "text": [
      "[140538100278528] 2024-07-24 15:11:22,587 [INFO] __main__: CFG:\n",
      "[140538100278528] 2024-07-24 15:11:22,595 [INFO] __main__: defaults:\n",
      "- encoder: hf_bert\n",
      "- ctx_sources: table_sources\n",
      "model_file: /home/angelo/nqt-retrieval/nqt-retrieval/checkpoint/bert-base-encoder.cp\n",
      "ctx_src: nq_table\n",
      "encoder_type: ctx\n",
      "out_file: null\n",
      "do_lower_case: true\n",
      "shard_id: 0\n",
      "num_shards: 1\n",
      "batch_size: 32\n",
      "tables_as_passages: false\n",
      "special_tokens: null\n",
      "tables_chunk_sz: 100\n",
      "tables_split_type: type1\n",
      "local_rank: -1\n",
      "device: cuda\n",
      "distributed_world_size: 1\n",
      "distributed_port: null\n",
      "no_cuda: false\n",
      "n_gpu: 1\n",
      "fp16: false\n",
      "fp16_opt_level: O1\n",
      "row_selection: none\n",
      "max_cell_num: None\n",
      "max_words: 120\n",
      "max_words_per_header: 12\n",
      "max_words_per_cell: 8\n",
      "max_cell_num_per_row: 64\n",
      "header_delimiter: '|'\n",
      "cell_delimiter: '|'\n",
      "row_delimiter: .\n",
      "max_sequence_length: 256\n",
      "structure_option: global\n",
      "\n"
     ]
    }
   ],
   "source": [
    "logger.info(\"CFG:\")\n",
    "logger.info(\"%s\", OmegaConf.to_yaml(cfg))"
   ]
  },
  {
   "cell_type": "code",
   "execution_count": 52,
   "metadata": {},
   "outputs": [
    {
     "name": "stdout",
     "output_type": "stream",
     "text": [
      "nq_table\n"
     ]
    }
   ],
   "source": [
    "print(cfg.ctx_src)"
   ]
  },
  {
   "cell_type": "code",
   "execution_count": 53,
   "metadata": {},
   "outputs": [],
   "source": [
    "cfg.encoder = OmegaConf.load('conf/encoder/hf_bert.yaml')"
   ]
  },
  {
   "cell_type": "code",
   "execution_count": 54,
   "metadata": {},
   "outputs": [
    {
     "name": "stdout",
     "output_type": "stream",
     "text": [
      "hf_bert\n"
     ]
    }
   ],
   "source": [
    "print(cfg.encoder.encoder_model_type)"
   ]
  },
  {
   "cell_type": "code",
   "execution_count": 55,
   "metadata": {},
   "outputs": [
    {
     "name": "stderr",
     "output_type": "stream",
     "text": [
      "[140538100278528] 2024-07-24 15:11:41,432 [INFO] dpr.models.hf_models: Initializing HF BERT Encoder. cfg_name=bert-base-uncased\n",
      "[140538100278528] 2024-07-24 15:11:41,703 [INFO] dpr.models.hf_models: Initializing HF BERT Encoder. cfg_name=bert-base-uncased\n"
     ]
    }
   ],
   "source": [
    "tensorizer, encoder, _ = init_biencoder_components(cfg.encoder.encoder_model_type, cfg, inference_only=True)"
   ]
  },
  {
   "cell_type": "code",
   "execution_count": 56,
   "metadata": {},
   "outputs": [],
   "source": [
    "encoder = encoder.ctx_model if cfg.encoder_type == \"ctx\" else encoder.question_model"
   ]
  },
  {
   "cell_type": "code",
   "execution_count": 57,
   "metadata": {},
   "outputs": [
    {
     "data": {
      "text/plain": [
       "HFBertEncoder(\n",
       "  (embeddings): BertEmbeddings(\n",
       "    (word_embeddings): Embedding(30522, 768, padding_idx=0)\n",
       "    (position_embeddings): Embedding(512, 768)\n",
       "    (token_type_embeddings): Embedding(2, 768)\n",
       "    (LayerNorm): LayerNorm((768,), eps=1e-12, elementwise_affine=True)\n",
       "    (dropout): Dropout(p=0.1, inplace=False)\n",
       "  )\n",
       "  (encoder): BertEncoder(\n",
       "    (layer): ModuleList(\n",
       "      (0-11): 12 x BertLayer(\n",
       "        (attention): BertAttention(\n",
       "          (self): BertSdpaSelfAttention(\n",
       "            (query): Linear(in_features=768, out_features=768, bias=True)\n",
       "            (key): Linear(in_features=768, out_features=768, bias=True)\n",
       "            (value): Linear(in_features=768, out_features=768, bias=True)\n",
       "            (dropout): Dropout(p=0.1, inplace=False)\n",
       "          )\n",
       "          (output): BertSelfOutput(\n",
       "            (dense): Linear(in_features=768, out_features=768, bias=True)\n",
       "            (LayerNorm): LayerNorm((768,), eps=1e-12, elementwise_affine=True)\n",
       "            (dropout): Dropout(p=0.1, inplace=False)\n",
       "          )\n",
       "        )\n",
       "        (intermediate): BertIntermediate(\n",
       "          (dense): Linear(in_features=768, out_features=3072, bias=True)\n",
       "          (intermediate_act_fn): GELUActivation()\n",
       "        )\n",
       "        (output): BertOutput(\n",
       "          (dense): Linear(in_features=3072, out_features=768, bias=True)\n",
       "          (LayerNorm): LayerNorm((768,), eps=1e-12, elementwise_affine=True)\n",
       "          (dropout): Dropout(p=0.1, inplace=False)\n",
       "        )\n",
       "      )\n",
       "    )\n",
       "  )\n",
       "  (pooler): BertPooler(\n",
       "    (dense): Linear(in_features=768, out_features=768, bias=True)\n",
       "    (activation): Tanh()\n",
       "  )\n",
       ")"
      ]
     },
     "execution_count": 57,
     "metadata": {},
     "output_type": "execute_result"
    }
   ],
   "source": [
    "encoder, _ = setup_for_distributed_mode(\n",
    "        encoder, None, cfg.device, cfg.n_gpu,\n",
    "        cfg.local_rank, cfg.fp16, cfg.fp16_opt_level,\n",
    ")\n",
    "encoder.eval()"
   ]
  },
  {
   "cell_type": "code",
   "execution_count": 58,
   "metadata": {},
   "outputs": [
    {
     "name": "stderr",
     "output_type": "stream",
     "text": [
      "[140538100278528] 2024-07-24 15:11:48,499 [INFO] __main__: Loading saved model state ...\n"
     ]
    },
    {
     "data": {
      "text/plain": [
       "<All keys matched successfully>"
      ]
     },
     "execution_count": 58,
     "metadata": {},
     "output_type": "execute_result"
    }
   ],
   "source": [
    "# load weights from the model file\n",
    "model_to_load = get_model_obj(encoder)\n",
    "logger.info(\"Loading saved model state ...\")\n",
    "logger.debug(\"saved model keys =%s\", saved_state.model_dict.keys())\n",
    "\n",
    "prefix_len = len(\"ctx_model.\")\n",
    "ctx_state = {\n",
    "    key[prefix_len:]: value for (key, value) in saved_state.model_dict.items() if key.startswith(\"ctx_model.\")\n",
    "}\n",
    "model_to_load.load_state_dict(ctx_state, strict=False)"
   ]
  },
  {
   "cell_type": "code",
   "execution_count": 59,
   "metadata": {},
   "outputs": [
    {
     "name": "stderr",
     "output_type": "stream",
     "text": [
      "[140538100278528] 2024-07-24 15:11:56,210 [INFO] __main__: reading data source: nq_table\n"
     ]
    }
   ],
   "source": [
    "logger.info(\"reading data source: %s\", cfg.ctx_src)"
   ]
  },
  {
   "cell_type": "code",
   "execution_count": 60,
   "metadata": {},
   "outputs": [
    {
     "name": "stdout",
     "output_type": "stream",
     "text": [
      "{'nq_table_raw': {'_target_': 'dpr.data.retriever_data.JsonlNQTablesCtxSrc', 'file': '/dataset/tables/tables.jsonl', 'id_prefix': 'nqt:'}, 'nq_table': {'_target_': 'dpr.data.retriever_data.JsonlNqtCtxSrc', 'file': '/dataset/tables/tables_proc_2.jsonl', 'id_prefix': 'nqt:'}, 'nq_table_all': {'_target_': 'dpr.data.retriever_data.JsonlNqtCtxSrc', 'file': '/dataset/tables/tables_all.jsonl', 'id_prefix': 'nqt:'}, 'nq_table_row': {'_target_': 'dpr.data.retriever_data.JsonlNqtCtxSrc', 'file': '/mnt/zhiruow/hitab/table-retrieval/datasets/nq_table/tables_row.jsonl', 'id_prefix': 'nqt:'}, 'nq_table_column': {'_target_': 'dpr.data.retriever_data.JsonlNqtCtxSrc', 'file': '/mnt/zhiruow/hitab/table-retrieval/datasets/nq_table/tables_column.jsonl', 'id_prefix': 'nqt:'}, 'nq_table_both': {'_target_': 'dpr.data.retriever_data.JsonlNqtCtxSrc', 'file': '/mnt/zhiruow/hitab/table-retrieval/datasets/nq_table/tables_both.jsonl', 'id_prefix': 'nqt:'}, 'nq_table_dcell': {'_target_': 'dpr.data.retriever_data.JsonlNqtCtxSrc', 'file': '/mnt/zhiruow/hitab/table-retrieval/datasets/nq_table/tables_dcell.jsonl', 'id_prefix': 'nqt:'}, 'nq_table_drow': {'_target_': 'dpr.data.retriever_data.JsonlNqtCtxSrc', 'file': '/mnt/zhiruow/hitab/table-retrieval/datasets/nq_table/tables_drow.jsonl', 'id_prefix': 'nqt:'}, 'nq_table_dnone': {'_target_': 'dpr.data.retriever_data.JsonlNqtCtxSrc', 'file': '/mnt/zhiruow/hitab/table-retrieval/datasets/nq_table/tables_dnone.jsonl', 'id_prefix': 'nqt:'}}\n"
     ]
    }
   ],
   "source": [
    "#ctx_src = hydra.utils.instantiate(cfg.ctx_sources[cfg.ctx_src])\n",
    "cfg.ctx_sources = OmegaConf.load('conf/ctx_sources/table_sources.yaml')\n",
    "print(cfg.ctx_sources)"
   ]
  },
  {
   "cell_type": "code",
   "execution_count": 61,
   "metadata": {},
   "outputs": [
    {
     "name": "stdout",
     "output_type": "stream",
     "text": [
      "{'_target_': 'dpr.data.retriever_data.JsonlNqtCtxSrc', 'file': '/dataset/tables/tables_proc_2.jsonl', 'id_prefix': 'nqt:'}\n"
     ]
    }
   ],
   "source": [
    "ctx_src=cfg.ctx_sources.nq_table\n",
    "print(ctx_src)"
   ]
  },
  {
   "cell_type": "code",
   "execution_count": 62,
   "metadata": {},
   "outputs": [],
   "source": [
    "ctx_src={'_target_': 'dpr.data.retriever_data.JsonlNqtCtxSrc', 'file': '/dataset/tables/tables_proc_2.jsonl', 'id_prefix': 'nqt:'}"
   ]
  },
  {
   "cell_type": "code",
   "execution_count": 63,
   "metadata": {},
   "outputs": [],
   "source": [
    "\n",
    "all_passages_dict = {}\n",
    "all_passages_dict=ctx_src\n",
    "#ctx_src.load_data_to(all_passages_dict, cfg)\n",
    "all_passages = [(k, v) for k, v in all_passages_dict.items()]\n",
    "\n"
   ]
  },
  {
   "cell_type": "code",
   "execution_count": 64,
   "metadata": {},
   "outputs": [],
   "source": [
    "shard_size = math.ceil(len(all_passages) / cfg.num_shards)\n",
    "start_idx = cfg.shard_id * shard_size\n",
    "end_idx = start_idx + shard_size"
   ]
  },
  {
   "cell_type": "code",
   "execution_count": 65,
   "metadata": {},
   "outputs": [
    {
     "name": "stdout",
     "output_type": "stream",
     "text": [
      "3\n"
     ]
    }
   ],
   "source": [
    "print(shard_size)"
   ]
  },
  {
   "cell_type": "code",
   "execution_count": 27,
   "metadata": {},
   "outputs": [
    {
     "name": "stdout",
     "output_type": "stream",
     "text": [
      "[('_target_', 'dpr.data.retriever_data.JsonlNqtCtxSrc'), ('file', '/dataset/tables/tables_proc_2.jsonl'), ('id_prefix', 'nqt:')]\n"
     ]
    }
   ],
   "source": [
    "print(all_passages)"
   ]
  },
  {
   "cell_type": "code",
   "execution_count": 66,
   "metadata": {},
   "outputs": [
    {
     "name": "stderr",
     "output_type": "stream",
     "text": [
      "[140538100278528] 2024-07-24 15:12:06,909 [INFO] __main__: Producing encodings for passages range: 0 to 3 (out of total 3)\n"
     ]
    }
   ],
   "source": [
    "logger.info(\n",
    "    \"Producing encodings for passages range: %d to %d (out of total %d)\",\n",
    "    start_idx, end_idx, len(all_passages),\n",
    ")\n"
   ]
  },
  {
   "cell_type": "code",
   "execution_count": 67,
   "metadata": {},
   "outputs": [],
   "source": [
    "shard_passages = all_passages[start_idx:end_idx]\n",
    "    "
   ]
  },
  {
   "cell_type": "code",
   "execution_count": 125,
   "metadata": {},
   "outputs": [
    {
     "ename": "TypeError",
     "evalue": "unsupported operand type(s) for +: 'NoneType' and 'str'",
     "output_type": "error",
     "traceback": [
      "\u001b[0;31m---------------------------------------------------------------------------\u001b[0m",
      "\u001b[0;31mTypeError\u001b[0m                                 Traceback (most recent call last)",
      "Cell \u001b[0;32mIn[125], line 3\u001b[0m\n\u001b[1;32m      1\u001b[0m \u001b[38;5;66;03m#data = get_table_ctx_vectors(cfg, shard_passages, encoder, tensorizer, insert_title=True)\u001b[39;00m\n\u001b[0;32m----> 3\u001b[0m file \u001b[38;5;241m=\u001b[39m \u001b[43mcfg\u001b[49m\u001b[38;5;241;43m.\u001b[39;49m\u001b[43mout_file\u001b[49m\u001b[43m \u001b[49m\u001b[38;5;241;43m+\u001b[39;49m\u001b[43m \u001b[49m\u001b[38;5;124;43m\"\u001b[39;49m\u001b[38;5;124;43m_\u001b[39;49m\u001b[38;5;124;43m\"\u001b[39;49m \u001b[38;5;241m+\u001b[39m \u001b[38;5;28mstr\u001b[39m(cfg\u001b[38;5;241m.\u001b[39mshard_id)\n\u001b[1;32m      4\u001b[0m pathlib\u001b[38;5;241m.\u001b[39mPath(os\u001b[38;5;241m.\u001b[39mpath\u001b[38;5;241m.\u001b[39mdirname(file))\u001b[38;5;241m.\u001b[39mmkdir(parents\u001b[38;5;241m=\u001b[39m\u001b[38;5;28;01mTrue\u001b[39;00m, exist_ok\u001b[38;5;241m=\u001b[39m\u001b[38;5;28;01mTrue\u001b[39;00m)\n\u001b[1;32m      5\u001b[0m logger\u001b[38;5;241m.\u001b[39minfo(\u001b[38;5;124m\"\u001b[39m\u001b[38;5;124mWriting results to \u001b[39m\u001b[38;5;132;01m%s\u001b[39;00m\u001b[38;5;124m\"\u001b[39m \u001b[38;5;241m%\u001b[39m file)\n",
      "\u001b[0;31mTypeError\u001b[0m: unsupported operand type(s) for +: 'NoneType' and 'str'"
     ]
    }
   ],
   "source": [
    "data = get_table_ctx_vectors(cfg, shard_passages, encoder, tensorizer, insert_title=True) #Questa funzione da notebook va in errore perchè non legge il file ma da terminale funziona\n",
    "\n",
    "file = cfg.out_file + \"_\" + str(cfg.shard_id)\n",
    "pathlib.Path(os.path.dirname(file)).mkdir(parents=True, exist_ok=True)\n",
    "logger.info(\"Writing results to %s\" % file)\n",
    "with open(file, mode=\"wb\") as f:\n",
    "    pickle.dump(data, f)\n",
    "\n",
    "logger.info(\"Total passages processed %d. Written to %s\", len(data), file)"
   ]
  },
  {
   "cell_type": "markdown",
   "metadata": {},
   "source": []
  }
 ],
 "metadata": {
  "kernelspec": {
   "display_name": "tapas",
   "language": "python",
   "name": "python3"
  },
  "language_info": {
   "codemirror_mode": {
    "name": "ipython",
    "version": 3
   },
   "file_extension": ".py",
   "mimetype": "text/x-python",
   "name": "python",
   "nbconvert_exporter": "python",
   "pygments_lexer": "ipython3",
   "version": "3.9.19"
  }
 },
 "nbformat": 4,
 "nbformat_minor": 2
}
